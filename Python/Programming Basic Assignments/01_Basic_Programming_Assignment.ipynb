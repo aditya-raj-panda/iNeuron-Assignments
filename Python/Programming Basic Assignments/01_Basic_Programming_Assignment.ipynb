{
  "nbformat": 4,
  "nbformat_minor": 0,
  "metadata": {
    "colab": {
      "provenance": []
    },
    "kernelspec": {
      "name": "python3",
      "display_name": "Python 3"
    },
    "language_info": {
      "name": "python"
    }
  },
  "cells": [
    {
      "cell_type": "markdown",
      "source": [
        "# **Assignment 1 Solutions**"
      ],
      "metadata": {
        "id": "Ul2Xf1bBaqt8"
      }
    },
    {
      "cell_type": "markdown",
      "source": [
        "**1.\tWrite a Python program to print \"Hello Python\"?**\n",
        "\n",
        "\n",
        "\n",
        "\n"
      ],
      "metadata": {
        "id": "W1bqZc6Ya1KY"
      }
    },
    {
      "cell_type": "code",
      "source": [
        "print(\"Hello Python\")"
      ],
      "metadata": {
        "colab": {
          "base_uri": "https://localhost:8080/"
        },
        "id": "ewf_hxUYaxhd",
        "outputId": "86d1ac36-f906-42a1-d3b5-da075e69d8e6"
      },
      "execution_count": 1,
      "outputs": [
        {
          "output_type": "stream",
          "name": "stdout",
          "text": [
            "Hello Python\n"
          ]
        }
      ]
    },
    {
      "cell_type": "markdown",
      "source": [
        "**2.\tWrite a Python program to do arithmetical operations addition and division.?**"
      ],
      "metadata": {
        "id": "ycAjtNZZbowF"
      }
    },
    {
      "cell_type": "code",
      "source": [
        "num = int(input(\"Enter a number: \"))\n",
        "num_2 = int(input(\"Enter another number: \"))\n",
        "\n",
        "print(\"Addition is:\", num + num_2)\n",
        "print(\"Divison is:\", num // num_2)"
      ],
      "metadata": {
        "colab": {
          "base_uri": "https://localhost:8080/"
        },
        "id": "QS37PajTbest",
        "outputId": "92bada4c-1751-4c84-f0a6-a58752c74839"
      },
      "execution_count": 6,
      "outputs": [
        {
          "output_type": "stream",
          "name": "stdout",
          "text": [
            "Enter a number: 4\n",
            "Enter another number: 2\n",
            "Addition is: 6\n",
            "Divison is: 2\n"
          ]
        }
      ]
    },
    {
      "cell_type": "markdown",
      "source": [
        "**3.\tWrite a Python program to find the area of a triangle?**"
      ],
      "metadata": {
        "id": "HiQCFx5Pere9"
      }
    },
    {
      "cell_type": "code",
      "source": [
        "b = int(input(\"Enter base of the triangle: \"))\n",
        "h = int(input(\"Enter height of the triangle: \"))\n",
        "\n",
        "print(\"Area of the given triangle is: \", 0.5 * b * h )\n"
      ],
      "metadata": {
        "colab": {
          "base_uri": "https://localhost:8080/"
        },
        "id": "Wc3_9NoreBLi",
        "outputId": "089b4221-accb-4106-9fb8-9442ddb5629b"
      },
      "execution_count": 1,
      "outputs": [
        {
          "output_type": "stream",
          "name": "stdout",
          "text": [
            "Enter base of the triangle: 8\n",
            "Enter height of the triangle: 4\n",
            "Area of the given triangle is:  16.0\n"
          ]
        }
      ]
    },
    {
      "cell_type": "markdown",
      "source": [
        "**4.\tWrite a Python program to swap two variables?**"
      ],
      "metadata": {
        "id": "Nsk9wz94jcOt"
      }
    },
    {
      "cell_type": "code",
      "source": [
        "# let 'a' be the first variable and 'b' be the second and 'temp' is the temporary variable\n",
        "\n",
        "a = int(input(\"Enter the number befor swapping : \"))\n",
        "b = int(input(\"Enter the second number before swapping : \"))\n",
        "\n",
        "temp = a\n",
        "a = b\n",
        "b = temp\n",
        "\n",
        "\n",
        "print(\"The number after swapping : \", a)\n",
        "print(\"The number after swapping : \", b)"
      ],
      "metadata": {
        "colab": {
          "base_uri": "https://localhost:8080/"
        },
        "id": "RPbYT8ZbjNoY",
        "outputId": "e75da478-c4eb-41d7-df04-f1fcd520f86d"
      },
      "execution_count": 5,
      "outputs": [
        {
          "output_type": "stream",
          "name": "stdout",
          "text": [
            "Enter the number befor swapping : 5\n",
            "Enter the second number before swapping : 6\n",
            "The number after swapping :  6\n",
            "The number after swapping :  5\n"
          ]
        }
      ]
    },
    {
      "cell_type": "markdown",
      "source": [
        "**5.\tWrite a Python program to generate a random number?**"
      ],
      "metadata": {
        "id": "u4hBQqXJkX2H"
      }
    },
    {
      "cell_type": "code",
      "source": [
        "from random import randint # The randint() method returns an integer number selected element from the specified range.\n",
        "\n",
        "def generateRandomNumber(start=0, end=100000):\n",
        "    print('Random number -> ',randint(start,end))\n",
        "\n",
        "# Generating random numbers without arguments\n",
        "generateRandomNumber()\n",
        "\n",
        "# Generating random numbers with arguments\n",
        "generateRandomNumber(0,100)"
      ],
      "metadata": {
        "colab": {
          "base_uri": "https://localhost:8080/"
        },
        "id": "AejClZoykVYY",
        "outputId": "c49ff2d8-37dc-4b66-e5df-74257cb2506e"
      },
      "execution_count": 7,
      "outputs": [
        {
          "output_type": "stream",
          "name": "stdout",
          "text": [
            "Random number ->  26791\n",
            "Random number ->  74\n"
          ]
        }
      ]
    },
    {
      "cell_type": "code",
      "source": [],
      "metadata": {
        "id": "aoPCeazPAxAS"
      },
      "execution_count": null,
      "outputs": []
    }
  ]
}