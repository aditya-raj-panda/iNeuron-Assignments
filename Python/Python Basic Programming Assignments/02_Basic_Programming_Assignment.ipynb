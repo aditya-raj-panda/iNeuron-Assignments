{
  "nbformat": 4,
  "nbformat_minor": 0,
  "metadata": {
    "colab": {
      "provenance": []
    },
    "kernelspec": {
      "name": "python3",
      "display_name": "Python 3"
    },
    "language_info": {
      "name": "python"
    }
  },
  "cells": [
    {
      "cell_type": "markdown",
      "source": [
        "# **Assignment 2 Solutions**"
      ],
      "metadata": {
        "id": "bsc1i-ctbfSk"
      }
    },
    {
      "cell_type": "markdown",
      "source": [
        "**1. Write a Python program to convert kilometers to mile.**\n"
      ],
      "metadata": {
        "id": "OfFHZt6fbh9T"
      }
    },
    {
      "cell_type": "code",
      "source": [
        "def km_to_mile():\n",
        "  kilometers = float(input(\"Enter no. of kilometers : \"))\n",
        "  print(\"{} km is equal to {} miles\".format(kilometers,kilometers*0.621))\n",
        "\n",
        "km_to_mile()\n"
      ],
      "metadata": {
        "id": "NOkP_WnUbrvT",
        "colab": {
          "base_uri": "https://localhost:8080/"
        },
        "outputId": "80c2e1e2-3a61-4152-e652-e48b2fa317c8"
      },
      "execution_count": 6,
      "outputs": [
        {
          "output_type": "stream",
          "name": "stdout",
          "text": [
            "Enter no. of kilometers : 7.8\n",
            "7.8 km is equal to 4.8438 miles\n"
          ]
        }
      ]
    },
    {
      "cell_type": "markdown",
      "source": [
        "**2.Write a Python program to convert Celsius to Fahrenheit?**"
      ],
      "metadata": {
        "id": "GAFwCWIftimv"
      }
    },
    {
      "cell_type": "code",
      "source": [
        "def cel_to_fahr():\n",
        "  celsius = float(input(\"Enter the temperature in celsius : \"))\n",
        "  print(\"{} celsius is equal to {} fahrenheit\".format(celsius,celsius*1.8+32))\n",
        "\n",
        "cel_to_fahr()"
      ],
      "metadata": {
        "colab": {
          "base_uri": "https://localhost:8080/"
        },
        "id": "_lZblcPrtJjr",
        "outputId": "44107a10-4d2b-4c25-b10e-204174dfbb59"
      },
      "execution_count": 7,
      "outputs": [
        {
          "output_type": "stream",
          "name": "stdout",
          "text": [
            "Enter the temperature in celsius : 22\n",
            "22.0 celsius is equal to 71.6 fahrenheit\n"
          ]
        }
      ]
    },
    {
      "cell_type": "markdown",
      "source": [
        "**3.Write a Python program to display calender ?**"
      ],
      "metadata": {
        "id": "gn-Lqy5IvDGt"
      }
    },
    {
      "cell_type": "code",
      "source": [
        "import calendar\n",
        "\n",
        "def show_calendar():\n",
        "  year = int(input(\"Enter the year : \"))\n",
        "  print(calendar.calendar(year))\n",
        "\n",
        "show_calendar()"
      ],
      "metadata": {
        "colab": {
          "base_uri": "https://localhost:8080/"
        },
        "id": "8PcGxS28vCSh",
        "outputId": "d07e7b2b-c5b8-4c3f-9f36-306ac6297407"
      },
      "execution_count": 9,
      "outputs": [
        {
          "output_type": "stream",
          "name": "stdout",
          "text": [
            "Enter the year : 2023\n",
            "                                  2023\n",
            "\n",
            "      January                   February                   March\n",
            "Mo Tu We Th Fr Sa Su      Mo Tu We Th Fr Sa Su      Mo Tu We Th Fr Sa Su\n",
            "                   1             1  2  3  4  5             1  2  3  4  5\n",
            " 2  3  4  5  6  7  8       6  7  8  9 10 11 12       6  7  8  9 10 11 12\n",
            " 9 10 11 12 13 14 15      13 14 15 16 17 18 19      13 14 15 16 17 18 19\n",
            "16 17 18 19 20 21 22      20 21 22 23 24 25 26      20 21 22 23 24 25 26\n",
            "23 24 25 26 27 28 29      27 28                     27 28 29 30 31\n",
            "30 31\n",
            "\n",
            "       April                      May                       June\n",
            "Mo Tu We Th Fr Sa Su      Mo Tu We Th Fr Sa Su      Mo Tu We Th Fr Sa Su\n",
            "                1  2       1  2  3  4  5  6  7                1  2  3  4\n",
            " 3  4  5  6  7  8  9       8  9 10 11 12 13 14       5  6  7  8  9 10 11\n",
            "10 11 12 13 14 15 16      15 16 17 18 19 20 21      12 13 14 15 16 17 18\n",
            "17 18 19 20 21 22 23      22 23 24 25 26 27 28      19 20 21 22 23 24 25\n",
            "24 25 26 27 28 29 30      29 30 31                  26 27 28 29 30\n",
            "\n",
            "        July                     August                  September\n",
            "Mo Tu We Th Fr Sa Su      Mo Tu We Th Fr Sa Su      Mo Tu We Th Fr Sa Su\n",
            "                1  2          1  2  3  4  5  6                   1  2  3\n",
            " 3  4  5  6  7  8  9       7  8  9 10 11 12 13       4  5  6  7  8  9 10\n",
            "10 11 12 13 14 15 16      14 15 16 17 18 19 20      11 12 13 14 15 16 17\n",
            "17 18 19 20 21 22 23      21 22 23 24 25 26 27      18 19 20 21 22 23 24\n",
            "24 25 26 27 28 29 30      28 29 30 31               25 26 27 28 29 30\n",
            "31\n",
            "\n",
            "      October                   November                  December\n",
            "Mo Tu We Th Fr Sa Su      Mo Tu We Th Fr Sa Su      Mo Tu We Th Fr Sa Su\n",
            "                   1             1  2  3  4  5                   1  2  3\n",
            " 2  3  4  5  6  7  8       6  7  8  9 10 11 12       4  5  6  7  8  9 10\n",
            " 9 10 11 12 13 14 15      13 14 15 16 17 18 19      11 12 13 14 15 16 17\n",
            "16 17 18 19 20 21 22      20 21 22 23 24 25 26      18 19 20 21 22 23 24\n",
            "23 24 25 26 27 28 29      27 28 29 30               25 26 27 28 29 30 31\n",
            "30 31\n",
            "\n"
          ]
        }
      ]
    },
    {
      "cell_type": "code",
      "source": [
        "import calendar\n",
        "\n",
        "yy = int(input(\"Enter year: \"))\n",
        "\n",
        "print(calendar.calendar(yy))\n",
        "\n",
        "'''\n",
        "In the line print(calendar.calendar(yy)), the first occurrence of calendar refers to the module itself, and the second calendar(yy) is a method call.\n",
        "First \"calendar\": This refers to the calendar module that you imported at the beginning of your code using import calendar. The calendar module provides\n",
        "various functions related to calendars.\n",
        "Second \"calendar(yy)\": This is a method call to the calendar() function within the calendar module. The calendar() function takes a year as an argument\n",
        "and returns a multiline string representing the calendar for that year.\n",
        "So, when you write calendar.calendar(yy), you are essentially using the calendar() function from the calendar module and passing the year yy as an argument\n",
        "to get the calendar for that specific year.\n",
        "In summary, the calendar module is used to access the calendar() function, which is then used to generate and print a calendar for the specified year (yy).\n",
        "'''"
      ],
      "metadata": {
        "colab": {
          "base_uri": "https://localhost:8080/"
        },
        "id": "l9hIYPi_uuTd",
        "outputId": "c1bb982e-3411-4295-e06c-5f464e118c93"
      },
      "execution_count": 11,
      "outputs": [
        {
          "output_type": "stream",
          "name": "stdout",
          "text": [
            "Enter year: 2023\n",
            "                                  2023\n",
            "\n",
            "      January                   February                   March\n",
            "Mo Tu We Th Fr Sa Su      Mo Tu We Th Fr Sa Su      Mo Tu We Th Fr Sa Su\n",
            "                   1             1  2  3  4  5             1  2  3  4  5\n",
            " 2  3  4  5  6  7  8       6  7  8  9 10 11 12       6  7  8  9 10 11 12\n",
            " 9 10 11 12 13 14 15      13 14 15 16 17 18 19      13 14 15 16 17 18 19\n",
            "16 17 18 19 20 21 22      20 21 22 23 24 25 26      20 21 22 23 24 25 26\n",
            "23 24 25 26 27 28 29      27 28                     27 28 29 30 31\n",
            "30 31\n",
            "\n",
            "       April                      May                       June\n",
            "Mo Tu We Th Fr Sa Su      Mo Tu We Th Fr Sa Su      Mo Tu We Th Fr Sa Su\n",
            "                1  2       1  2  3  4  5  6  7                1  2  3  4\n",
            " 3  4  5  6  7  8  9       8  9 10 11 12 13 14       5  6  7  8  9 10 11\n",
            "10 11 12 13 14 15 16      15 16 17 18 19 20 21      12 13 14 15 16 17 18\n",
            "17 18 19 20 21 22 23      22 23 24 25 26 27 28      19 20 21 22 23 24 25\n",
            "24 25 26 27 28 29 30      29 30 31                  26 27 28 29 30\n",
            "\n",
            "        July                     August                  September\n",
            "Mo Tu We Th Fr Sa Su      Mo Tu We Th Fr Sa Su      Mo Tu We Th Fr Sa Su\n",
            "                1  2          1  2  3  4  5  6                   1  2  3\n",
            " 3  4  5  6  7  8  9       7  8  9 10 11 12 13       4  5  6  7  8  9 10\n",
            "10 11 12 13 14 15 16      14 15 16 17 18 19 20      11 12 13 14 15 16 17\n",
            "17 18 19 20 21 22 23      21 22 23 24 25 26 27      18 19 20 21 22 23 24\n",
            "24 25 26 27 28 29 30      28 29 30 31               25 26 27 28 29 30\n",
            "31\n",
            "\n",
            "      October                   November                  December\n",
            "Mo Tu We Th Fr Sa Su      Mo Tu We Th Fr Sa Su      Mo Tu We Th Fr Sa Su\n",
            "                   1             1  2  3  4  5                   1  2  3\n",
            " 2  3  4  5  6  7  8       6  7  8  9 10 11 12       4  5  6  7  8  9 10\n",
            " 9 10 11 12 13 14 15      13 14 15 16 17 18 19      11 12 13 14 15 16 17\n",
            "16 17 18 19 20 21 22      20 21 22 23 24 25 26      18 19 20 21 22 23 24\n",
            "23 24 25 26 27 28 29      27 28 29 30               25 26 27 28 29 30 31\n",
            "30 31\n",
            "\n"
          ]
        }
      ]
    },
    {
      "cell_type": "markdown",
      "source": [
        "**4.Write a Python program to solve quadartic equation ?**"
      ],
      "metadata": {
        "id": "MKNaj50IyC2O"
      }
    },
    {
      "cell_type": "code",
      "source": [
        "'''\n",
        "D = b2 – 4ac\n",
        "In terms of D, the roots can be written as: x = (α, β) = [-b ± √(b2 – 4ac)]/2a = [-b ± √D]/2a\n",
        "D is a real number since a, b and c are real numbers. Depending upon a, band c, the value of D can either be positive, negative or zero.\n",
        "\n",
        "1.) D > 0 : When D is positive, the equation will have two real and distinct roots.\n",
        "\n",
        "x = [-b + √D]/2a     or     x = [-b - √D]/2a\n",
        "\n",
        "\n",
        "2.) D = 0 : When D is equal to zero, the equation will have two real and equal roots.\n",
        "\n",
        "x = -b/2a     or    x = -b/2a\n",
        "\n",
        "\n",
        "3.) D < 0: When D is negative, the equation will have no real roots and the roots will be complex.\n",
        "\n",
        "'''\n",
        "\n",
        "import math   # Python has also a built-in module called math, which extends the list of mathematical functions. For example,  math.sqrt() method returns the square root of a number.\n",
        "import cmath  # Python has a built-in module that you can use for mathematical tasks for complex numbers.\n",
        "\n",
        "def quadratic_equation(a,b,c):\n",
        "\n",
        "  discriminant = b*b-4*a*c\n",
        "\n",
        "  if discriminant == 0 :\n",
        "    r1 = -b/2*a\n",
        "    r2 = -b/2*a\n",
        "    print(\"Roots are real and equal\",r1,r2)\n",
        "\n",
        "  elif discriminant > 0 :\n",
        "    r1 = (-b-math.sqrt(discriminant))/(2*a)\n",
        "    r2 = (-b+math.sqrt(discriminant))/(2*a)\n",
        "    print(\"Roots are real and different\",r1,r2)\n",
        "\n",
        "  else :\n",
        "    r1 = (-b-cmath.sqrt(discriminant))/(2 * a)       # cmath.sqrt(x)\tReturns the square root of a complex number\n",
        "    r2 = (-b+cmath.sqrt(discriminant))/(2 * a)\n",
        "    print(\"Roots are Imaginary\",r1,r2)\n",
        "\n",
        "\n",
        "a = int(input('Enter a value: '))\n",
        "b = int(input('Enter b value: '))\n",
        "c = int(input('Enter c value: '))\n",
        "\n",
        "quadratic_equation(a,b,c)\n"
      ],
      "metadata": {
        "colab": {
          "base_uri": "https://localhost:8080/"
        },
        "id": "lq-6kBNcwWsm",
        "outputId": "f6bf5c3c-152f-4043-b401-9e9c68d0ed12"
      },
      "execution_count": 4,
      "outputs": [
        {
          "output_type": "stream",
          "name": "stdout",
          "text": [
            "Enter a value: 4\n",
            "Enter b value: 5\n",
            "Enter c value: 6\n",
            "Roots are Imaginary (-0.625-1.0532687216470449j) (-0.625+1.0532687216470449j)\n"
          ]
        }
      ]
    },
    {
      "cell_type": "markdown",
      "source": [
        "**5.Write a Python program to swap two variables without temp variable ?**"
      ],
      "metadata": {
        "id": "acjzr6ZgZDlF"
      }
    },
    {
      "cell_type": "code",
      "source": [
        "'''\n",
        "Method 1 :- Using simple built-in method\n",
        "This method works for any data type values like string, int, float and is easy to use.\n",
        "\n",
        "left , right = right , left\n",
        "'''\n",
        "\n",
        "num_1 = int(input('Enter first number: '))\n",
        "num_2 = int(input('Enter second number: '))\n",
        "\n",
        "def swapNumbers(num_1,num_2):\n",
        "  print (\"Before swapping: \")\n",
        "  print(\"Value of num_1 : \", num_1, \" and num_2 : \", num_2)\n",
        "\n",
        "# code to swap\n",
        "  num_1, num_2 = num_2, num_1\n",
        "\n",
        "  print (\"After swapping: \")\n",
        "  print(\"Value of num_1 : \", num_1, \" and num_2 : \", num_2)\n",
        "\n",
        "swapNumbers(num_1,num_2)"
      ],
      "metadata": {
        "colab": {
          "base_uri": "https://localhost:8080/"
        },
        "id": "xE6PMHOdYQb1",
        "outputId": "0e8f8f98-b4b7-4720-e72f-3d6a8cd9f87e"
      },
      "execution_count": 10,
      "outputs": [
        {
          "output_type": "stream",
          "name": "stdout",
          "text": [
            "Enter first number: 4\n",
            "Enter second number: 5\n",
            "Before swapping: \n",
            "Value of num_1 :  4  and num_2 :  5\n",
            "After swapping: \n",
            "Value of num_1 :  5  and num_2 :  4\n"
          ]
        }
      ]
    },
    {
      "cell_type": "code",
      "source": [
        "'''\n",
        "Method 2 :- Using Bitwise XOR operator\n",
        "\n",
        "This method only works for integers and works faster because this method uses bit operation (for same values, output = 0 and for different values, output = 1) .\n",
        "\n",
        "x ^= y\n",
        "y ^= x\n",
        "x ^= y\n",
        "'''\n",
        "\n",
        "x = 5  # x = 0101\n",
        "y = 10 # y = 1010\n",
        "\n",
        "print (\"Before swapping: \")\n",
        "print(\"Value of x : \", x, \" and y : \", y)\n",
        "\n",
        "# Swap code\n",
        "x ^= y # x = 1111, y = 1010     x = 1111 is the updated value\n",
        "y ^= x # y = 0101, x = 1111     y = 0101 is the updated value\n",
        "x ^= y # x = 1010, y = 0101     x = 1010 is the updated value\n",
        "\n",
        "print (\"After swapping: \")\n",
        "print(\"Value of x : \", x, \" and y : \", y)"
      ],
      "metadata": {
        "colab": {
          "base_uri": "https://localhost:8080/"
        },
        "id": "jr_pC7QC5f6v",
        "outputId": "2f548eca-c9d7-4fd4-ac66-ea03a92172f9"
      },
      "execution_count": 11,
      "outputs": [
        {
          "output_type": "stream",
          "name": "stdout",
          "text": [
            "Before swapping: \n",
            "Value of x :  5  and y :  10\n",
            "After swapping: \n",
            "Value of x :  10  and y :  5\n"
          ]
        }
      ]
    },
    {
      "cell_type": "code",
      "source": [
        "'''\n",
        "Method 3 :- Using Addition and Subtraction Operators\n",
        "\n",
        "x = x + y\n",
        "y = x - y\n",
        "x = x - y\n",
        "\n",
        "This method works for variables that have numeric values.\n",
        "'''\n",
        "\n",
        "x = 5.4\n",
        "y = 10.3\n",
        "\n",
        "print (\"Before swapping: \")\n",
        "print(\"Value of x : \", x, \" and y : \", y)\n",
        "\n",
        "# Swap code\n",
        "x = x + y # x = 15.7, y = 10.3\n",
        "y = x - y # x = 15.7, y = 5.4\n",
        "x = x - y # x = 10.3, y = 5.4\n",
        "\n",
        "print (\"After swapping: \")\n",
        "print(\"Value of x : \", x, \" and y : \", y)"
      ],
      "metadata": {
        "colab": {
          "base_uri": "https://localhost:8080/"
        },
        "id": "d0R85jDm5n_P",
        "outputId": "6fa96789-223f-4c19-f46c-c3915ae0ad4c"
      },
      "execution_count": 12,
      "outputs": [
        {
          "output_type": "stream",
          "name": "stdout",
          "text": [
            "Before swapping: \n",
            "Value of x :  5.4  and y :  10.3\n",
            "After swapping: \n",
            "Value of x :  10.3  and y :  5.4\n"
          ]
        }
      ]
    }
  ]
}